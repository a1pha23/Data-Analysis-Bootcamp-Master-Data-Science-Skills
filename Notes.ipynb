{
 "cells": [
  {
   "cell_type": "code",
   "execution_count": 1,
   "id": "4b50e376-8862-468a-b29c-6b13cb751191",
   "metadata": {},
   "outputs": [
    {
     "ename": "SyntaxError",
     "evalue": "invalid syntax (772953195.py, line 3)",
     "output_type": "error",
     "traceback": [
      "\u001b[1;36m  Cell \u001b[1;32mIn[1], line 3\u001b[1;36m\u001b[0m\n\u001b[1;33m    Analyzing, Cleaning, Manipulating, and Interpreting data to find trends, patterns, and insights that can help with decision-making is known as data analysis.\u001b[0m\n\u001b[1;37m                                       ^\u001b[0m\n\u001b[1;31mSyntaxError\u001b[0m\u001b[1;31m:\u001b[0m invalid syntax\n"
     ]
    }
   ],
   "source": [
    "# Data Analysis\n",
    "\n",
    "Analyzing, Cleaning, Manipulating, and Interpreting data to find trends, patterns, and insights that can help with decision-making is known as data analysis.\n",
    "\n",
    "---\n",
    "\n",
    "## Sectors:\n",
    "1. **Marketing**\n",
    "2. **Finance**\n",
    "3. **Healthcare**\n",
    "4. **E-commerce**\n",
    "5. **Supply Chain**\n",
    "6. **Retail**\n",
    "7. **Manufacturing**\n",
    "8. **HR**\n",
    "9. **Telecom**\n",
    "10. **Energy**\n",
    "\n",
    "---\n",
    "\n",
    "## Four Primary Categories of Data Analytics\n",
    "\n",
    "1. **Descriptive Analytics**:  \n",
    "   Answers the question *\"What happened?\"* by summarizing historical data. Reports on monthly revenue or sales trends are two examples.\n",
    "\n",
    "2. **Diagnostic Analytics**:  \n",
    "   Examines information to determine *\"Why did it happen?\"* It frequently entails locating abnormalities or correlations in the data.\n",
    "\n",
    "3. **Predictive Analytics**:  \n",
    "   Answers the question *\"What might happen?\"* by predicting future events using historical data. This covers methods such as demand forecasting and machine learning for sales.\n",
    "\n",
    "4. **Prescriptive Analytics**:  \n",
    "   Provides action recommendations by addressing the question, *\"What should we do?\"* In order to determine the optimum course of action, such as supply chain optimization or pricing strategies, optimization and simulation are used.\n",
    "\n",
    "---\n",
    "\n",
    "## Steps Commonly Followed in the Data Analytics Process\n",
    "\n",
    "- **Establish Goals**:  \n",
    "  Determine the issue or query that needs to be addressed and establish precise objectives for the analysis.\n",
    "\n",
    "- **Data Collection**:  \n",
    "  Compile pertinent information from a range of sources, including databases, surveys, and logs.\n",
    "\n",
    "- **Data Cleaning**:  \n",
    "  To guarantee correctness, process and clean the data by eliminating mistakes, duplicates, and unnecessary information.\n",
    "\n",
    "- **Data Analysis**:  \n",
    "  Examine patterns, trends, or connections in the data using statistical or machine learning methods.\n",
    "\n",
    "- **Interpret and Report**:  \n",
    "  Convert findings into practical suggestions and convey insights via reports or visualizations.\n"
   ]
  },
  {
   "cell_type": "code",
   "execution_count": null,
   "id": "93ce7a57-277b-4db3-be4e-4e085391192d",
   "metadata": {},
   "outputs": [],
   "source": []
  }
 ],
 "metadata": {
  "kernelspec": {
   "display_name": "Python 3 (ipykernel)",
   "language": "python",
   "name": "python3"
  },
  "language_info": {
   "codemirror_mode": {
    "name": "ipython",
    "version": 3
   },
   "file_extension": ".py",
   "mimetype": "text/x-python",
   "name": "python",
   "nbconvert_exporter": "python",
   "pygments_lexer": "ipython3",
   "version": "3.13.0"
  }
 },
 "nbformat": 4,
 "nbformat_minor": 5
}
